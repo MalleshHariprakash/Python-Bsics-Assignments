{
 "cells": [
  {
   "cell_type": "markdown",
   "id": "df454d68",
   "metadata": {},
   "source": [
    "1. In the below elements which of them are values or an expression? eg:- values can be\n",
    "integer or string and expressions will be mathematical operators.\n",
    "\n",
    "* --> Expression (Multiplication)\n",
    "'hello' --> value (string)\n",
    "-87.8 --> value (float)\n",
    "- --> Expression (subtraction)\n",
    "/ --> Expression (divisio)\n",
    "+ --> Expression (addtio)\n",
    "6 --> value (integer)\n",
    "\n",
    "======================================================================================================================"
   ]
  },
  {
   "cell_type": "markdown",
   "id": "34322b59",
   "metadata": {},
   "source": [
    "2. What is the difference between string and variable?\n",
    "\n",
    "Ans: \n",
    "\n",
    "    A string is a sequence of one or more characters (letters, numbers, symbols) that can be either a constant or a variable. Made up of Unicode, strings are immutable sequences, meaning they are unchanging.\n",
    "    variable as an identifier to store a value in a memory location and to manipulate it if needed.\n",
    "    \n",
    "    Variables that stores the information in the form of values. We cannot use space in-between two words. In addition, in string we can use Space\n",
    "    \n",
    "    Strings should be written inside the cots and variables are not written inside the cots.\n",
    "    \n",
    "    In variable we cannot use integer and reserved words, we have to use only alphabetics and symbols whereas in string we can itegers and reserved words.\n",
    "    \n",
    "    Some variable are Mutable type whereas strings are immutable\n",
    "    \n",
    "    We can store string in a variable but we cannot store the variable in the string.\n",
    "    \n",
    "    ====================================================================================================================="
   ]
  },
  {
   "cell_type": "markdown",
   "id": "2fe8e1b2",
   "metadata": {},
   "source": [
    "3. Describe three different data types.\n",
    "\n",
    "Ans:\n",
    "\n",
    "1) Numeric : In Python, numeric data type represent the data which has numeric value. Numeric value can be integer, floating number or even complex numbers.\n",
    "\n",
    "Types in Numeric:\n",
    "\n",
    "A) Integer : It contains positive or negative whole numbers without fraction or decimal. In Python there is no limit to how                  long an integer value can be. It is represented by int class.\n",
    "\n",
    "B) Float : It is a real number with floating point representation. It is specified by a decimal point. It is represented by                float class\n",
    "\n",
    "C) Complex Numbers : It is specified as (real part) + (imaginary part)j. For example – 2+3j. Complex number is represented by                        complex class.\n",
    "\n",
    "2) Sequence Type : In Python, sequence is the ordered collection of similar or different data types.\n",
    "\n",
    "Types \n",
    "\n",
    "A) String : In Python, Strings are arrays of bytes representing Unicode characters. A string is a collection of one or more                 characters put in a single quote, double-quote or triple quote. It is represented by str class.\n",
    "\n",
    "B) List : Lists are just like the arrays, declared in other languages which is a ordered collection of data. It is very                   flexible as the items in a list do not need to be of the same type. It is represented by list class.\n",
    "\n",
    "C) Tuple : Just like list, tuple is also an ordered collection of Python objects. The only difference between tuple and list is            that tuples are immutable i.e. tuples cannot be modified after it is created. It is represented by tuple class.\n",
    "\n",
    "3) Boolean : Data type with one of the two built-in values, True or False. It is represented by bool class.\n",
    "\n",
    "4) Sets\n",
    "\n",
    "5) Dictionary\n",
    "\n",
    "====================================================================================================================="
   ]
  },
  {
   "cell_type": "markdown",
   "id": "515da2f5",
   "metadata": {},
   "source": [
    "4. What is an expression made up of? What do all expressions do?\n",
    "\n",
    "    An expression is a combination of operators and operands that is interpreted to produce some other value. In any programming language, an expression is evaluated as per the precedence of its operators. So that if there is more than one operator in an expression, their precedence decides which operation will be performed first.\n",
    "    \n",
    "========================================================================================================================    "
   ]
  },
  {
   "cell_type": "markdown",
   "id": "71193147",
   "metadata": {},
   "source": [
    "5. This assignment statements, like spam = 10. What is the difference between an\n",
    "expression and a statement?\n",
    "\n",
    "Ans:\n",
    "\n",
    "Assignment statements represent assigning a value to a variable. Here in spam = 10 represents assigning value(10) to a variable(spam). \n",
    " \n",
    "Statements represent an action or command e.g print statements, assignment statements.\n",
    "e.g: print 'hello', x = 1\n",
    "\n",
    "Expression is a combination of variables, operations and values that yields a result value.\n",
    "e.g: 5 * 5 # yields 25\n",
    "\n",
    "========================================================================================================================="
   ]
  },
  {
   "cell_type": "markdown",
   "id": "8ce87f42",
   "metadata": {},
   "source": [
    "6. After running the following code, what does the variable bacon contain?\n",
    "\n",
    "bacon = 22\n",
    "\n",
    "bacon + 1\n",
    "\n",
    "Here after running the above code bacon contains 22 because first line of the code assigns 22 to bacon and the second line adds 1 to bacon but it is not assigned to any variable.\n",
    "\n",
    "\n",
    "========================================================================================================================"
   ]
  },
  {
   "cell_type": "markdown",
   "id": "1aa87f4e",
   "metadata": {},
   "source": [
    "7. What should the values of the following two terms be?\n",
    "\n",
    "'spam'+'spamspam' \n",
    "\n",
    "output: 'spamspamspam'\n",
    "\n",
    "'spam'*3\n",
    "\n",
    "output: 'spamspamspam'\n",
    "\n",
    "======================================================================================================================="
   ]
  },
  {
   "cell_type": "markdown",
   "id": "8446d11a",
   "metadata": {},
   "source": [
    "8. Why is eggs a valid variable name while 100 is invalid?\n",
    "\n",
    "Because variable names cannot begin with a number, because varible names cannot begin with integer or it cannot be full iteger.\n",
    "\n",
    "====================================================================================================================="
   ]
  },
  {
   "cell_type": "markdown",
   "id": "333df99e",
   "metadata": {},
   "source": [
    "9. What three functions can be used to get the integer, floating-point number, or string\n",
    "version of a value?\n",
    "\n",
    "The int() , float() , and str( ) functions will evaluate to the integer, floating-point number, and string versions of the value passed to them.\n",
    "\n",
    "========================================================================================================================"
   ]
  },
  {
   "cell_type": "markdown",
   "id": "72ce83d9",
   "metadata": {},
   "source": [
    "10. Why does this expression cause an error? How can you fix it?\n",
    "\n",
    "'I have eaten' + 99 + 'burritos.'\n",
    "\n",
    "This expression cause an error because we can only concatenate strings or we cannot add and integer to a string.\n",
    "\n",
    "To fix it we have to make 99 as an strig : 'I have eaten' + '99' + 'burritos.'\n",
    "\n",
    "======================================================================================================================"
   ]
  },
  {
   "cell_type": "code",
   "execution_count": null,
   "id": "1436d6a9",
   "metadata": {},
   "outputs": [],
   "source": []
  },
  {
   "cell_type": "code",
   "execution_count": null,
   "id": "5b7a8b91",
   "metadata": {},
   "outputs": [],
   "source": []
  }
 ],
 "metadata": {
  "kernelspec": {
   "display_name": "Python 3 (ipykernel)",
   "language": "python",
   "name": "python3"
  },
  "language_info": {
   "codemirror_mode": {
    "name": "ipython",
    "version": 3
   },
   "file_extension": ".py",
   "mimetype": "text/x-python",
   "name": "python",
   "nbconvert_exporter": "python",
   "pygments_lexer": "ipython3",
   "version": "3.9.7"
  }
 },
 "nbformat": 4,
 "nbformat_minor": 5
}
